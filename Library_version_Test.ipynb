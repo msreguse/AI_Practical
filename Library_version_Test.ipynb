{
  "nbformat": 4,
  "nbformat_minor": 0,
  "metadata": {
    "colab": {
      "name": "Library version Test.ipynb",
      "provenance": [],
      "collapsed_sections": [],
      "authorship_tag": "ABX9TyNIQ0tv+4cpv5xxSkb6ovQM",
      "include_colab_link": true
    },
    "kernelspec": {
      "name": "python3",
      "display_name": "Python 3"
    },
    "accelerator": "GPU"
  },
  "cells": [
    {
      "cell_type": "markdown",
      "metadata": {
        "id": "view-in-github",
        "colab_type": "text"
      },
      "source": [
        "<a href=\"https://colab.research.google.com/github/Msanjayds/AI_Practical/blob/master/Library_version_Test.ipynb\" target=\"_parent\"><img src=\"https://colab.research.google.com/assets/colab-badge.svg\" alt=\"Open In Colab\"/></a>"
      ]
    },
    {
      "cell_type": "code",
      "metadata": {
        "id": "gn8zit1mYxRb",
        "colab_type": "code",
        "colab": {
          "base_uri": "https://localhost:8080/",
          "height": 50
        },
        "outputId": "c1a16744-db8f-4daf-c652-1121c1c97dd9"
      },
      "source": [
        "try:\n",
        "  from google.colab import drive\n",
        "  %tensorflow_version 2.x\n",
        "  COLAB=True\n",
        "  print(\"Note: using Google Colab\")\n",
        "except:\n",
        "  print(\"Not: not using colab\")\n",
        "  COLAB = False"
      ],
      "execution_count": 1,
      "outputs": [
        {
          "output_type": "stream",
          "text": [
            "TensorFlow 2.x selected.\n",
            "Note: using Google Colab\n"
          ],
          "name": "stdout"
        }
      ]
    },
    {
      "cell_type": "code",
      "metadata": {
        "id": "w4taQ_HyZihV",
        "colab_type": "code",
        "colab": {
          "base_uri": "https://localhost:8080/",
          "height": 147
        },
        "outputId": "5d8ce48c-4689-40dc-9cd7-e495732455b2"
      },
      "source": [
        "import sys\n",
        "import tensorflow.keras\n",
        "import pandas as pd\n",
        "import sklearn as sk\n",
        "import tensorflow as tf\n",
        "\n",
        "print(f\"Tensor Flow version: {tf.__version__} \")\n",
        "print(f\"keras version: {tensorflow.keras.__version__}\")\n",
        "print()\n",
        "print(f\"python {sys.version}\")\n",
        "print(f\"pandas {pd.__version__}\")\n",
        "print(f\"sciket-learn {sk.__version__}\")\n",
        "# print(\"GPUS is\", \"avaialble \" if tf.test.is_gpu_available() else \"Not available\")\n",
        "print(\"GPUS is\", \"avaialble \" if tf.config.list_physical_devices('GPU') else \"Not available\")"
      ],
      "execution_count": 7,
      "outputs": [
        {
          "output_type": "stream",
          "text": [
            "Tensor Flow version: 2.2.0-rc1 \n",
            "keras version: 2.2.4-tf\n",
            "\n",
            "python 3.6.9 (default, Nov  7 2019, 10:44:02) \n",
            "[GCC 8.3.0]\n",
            "pandas 0.25.3\n",
            "sciket-learn 0.22.2.post1\n",
            "GPUS is avaialble \n"
          ],
          "name": "stdout"
        }
      ]
    },
    {
      "cell_type": "code",
      "metadata": {
        "id": "yWebtsPibiHV",
        "colab_type": "code",
        "colab": {}
      },
      "source": [
        ""
      ],
      "execution_count": 0,
      "outputs": []
    },
    {
      "cell_type": "markdown",
      "metadata": {
        "id": "7UapbsKBZhfT",
        "colab_type": "text"
      },
      "source": [
        ""
      ]
    }
  ]
}